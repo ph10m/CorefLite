{
 "cells": [
  {
   "cell_type": "code",
   "execution_count": 1,
   "metadata": {},
   "outputs": [],
   "source": [
    "%load_ext autoreload\n",
    "%autoreload 2"
   ]
  },
  {
   "cell_type": "code",
   "execution_count": 2,
   "metadata": {
    "scrolled": true
   },
   "outputs": [],
   "source": [
    "import sys\n",
    "sys.path.insert(0,'..')"
   ]
  },
  {
   "cell_type": "code",
   "execution_count": 3,
   "metadata": {},
   "outputs": [],
   "source": [
    "import os\n",
    "from tollef_conll_converter import LitBankConverter"
   ]
  },
  {
   "cell_type": "code",
   "execution_count": 4,
   "metadata": {},
   "outputs": [],
   "source": [
    "datadir = \"../../../data/COREFERENCE_RESOLUTION/litbank_conll_short\"\n",
    "outdir = \"../../coreference_data/litbank_short.coreflite\"\n",
    "\n",
    "litconv = LitBankConverter(datadir, outdir)"
   ]
  },
  {
   "cell_type": "code",
   "execution_count": null,
   "metadata": {},
   "outputs": [],
   "source": []
  },
  {
   "cell_type": "code",
   "execution_count": 5,
   "metadata": {
    "scrolled": false
   },
   "outputs": [
    {
     "name": "stdout",
     "output_type": "stream",
     "text": [
      "../../../data/COREFERENCE_RESOLUTION/litbank_conll_short\\1023_bleak_house_brat.conll\n",
      "../../../data/COREFERENCE_RESOLUTION/litbank_conll_short\\105_persuasion_brat.conll\n",
      "../../../data/COREFERENCE_RESOLUTION/litbank_conll_short\\1064_the_masque_of_the_red_death_brat.conll\n",
      "../../../data/COREFERENCE_RESOLUTION/litbank_conll_short\\110_tess_of_the_durbervilles_a_pure_woman_brat.conll\n",
      "../../../data/COREFERENCE_RESOLUTION/litbank_conll_short\\113_the_secret_garden_brat.conll\n",
      "../../../data/COREFERENCE_RESOLUTION/litbank_conll_short\\1155_the_secret_adversary_brat.conll\n",
      "../../../data/COREFERENCE_RESOLUTION/litbank_conll_short\\11_alices_adventures_in_wonderland_brat.conll\n",
      "../../../data/COREFERENCE_RESOLUTION/litbank_conll_short\\1206_the_flying_u_ranch_brat.conll\n",
      "../../../data/COREFERENCE_RESOLUTION/litbank_conll_short\\120_treasure_island_brat.conll\n",
      "../../../data/COREFERENCE_RESOLUTION/litbank_conll_short\\1245_night_and_day_brat.conll\n",
      "../../../data/COREFERENCE_RESOLUTION/litbank_conll_short\\1260_jane_eyre_an_autobiography_brat.conll\n",
      "../../../data/COREFERENCE_RESOLUTION/litbank_conll_short\\1327_elizabeth_and_her_german_garden_brat.conll\n",
      "../../../data/COREFERENCE_RESOLUTION/litbank_conll_short\\1342_pride_and_prejudice_brat.conll\n",
      "../../../data/COREFERENCE_RESOLUTION/litbank_conll_short\\1400_great_expectations_brat.conll\n",
      "../../../data/COREFERENCE_RESOLUTION/litbank_conll_short\\145_middlemarch_brat.conll\n",
      "../../../data/COREFERENCE_RESOLUTION/litbank_conll_short\\15265_the_quest_of_the_silver_fleece_a_novel_brat.conll\n",
      "../../../data/COREFERENCE_RESOLUTION/litbank_conll_short\\155_the_moonstone_brat.conll\n",
      "../../../data/COREFERENCE_RESOLUTION/litbank_conll_short\\158_emma_brat.conll\n",
      "../../../data/COREFERENCE_RESOLUTION/litbank_conll_short\\160_the_awakening_and_selected_short_stories_brat.conll\n",
      "../../../data/COREFERENCE_RESOLUTION/litbank_conll_short\\16357_mary_a_fiction_brat.conll\n",
      "../../../data/COREFERENCE_RESOLUTION/litbank_conll_short\\1661_the_adventures_of_sherlock_holmes_brat.conll\n",
      "../../../data/COREFERENCE_RESOLUTION/litbank_conll_short\\1695_the_man_who_was_thursday_a_nightmare_brat.conll\n",
      "../../../data/COREFERENCE_RESOLUTION/litbank_conll_short\\171_charlotte_temple_brat.conll\n",
      "../../../data/COREFERENCE_RESOLUTION/litbank_conll_short\\174_the_picture_of_dorian_gray_brat.conll\n",
      "../../../data/COREFERENCE_RESOLUTION/litbank_conll_short\\2005_piccadilly_jim_brat.conll\n",
      "../../../data/COREFERENCE_RESOLUTION/litbank_conll_short\\2084_the_way_of_all_flesh_brat.conll\n",
      "../../../data/COREFERENCE_RESOLUTION/litbank_conll_short\\208_daisy_miller_a_study_brat.conll\n",
      "../../../data/COREFERENCE_RESOLUTION/litbank_conll_short\\2095_clotelle_a_tale_of_the_southern_states_brat.conll\n",
      "../../../data/COREFERENCE_RESOLUTION/litbank_conll_short\\209_the_turn_of_the_screw_brat.conll\n",
      "../../../data/COREFERENCE_RESOLUTION/litbank_conll_short\\215_the_call_of_the_wild_brat.conll\n",
      "../../../data/COREFERENCE_RESOLUTION/litbank_conll_short\\2166_king_solomons_mines_brat.conll\n",
      "../../../data/COREFERENCE_RESOLUTION/litbank_conll_short\\217_sons_and_lovers_brat.conll\n",
      "../../../data/COREFERENCE_RESOLUTION/litbank_conll_short\\219_heart_of_darkness_brat.conll\n",
      "../../../data/COREFERENCE_RESOLUTION/litbank_conll_short\\233_sister_carrie_a_novel_brat.conll\n",
      "../../../data/COREFERENCE_RESOLUTION/litbank_conll_short\\238_dear_enemy_brat.conll\n",
      "../../../data/COREFERENCE_RESOLUTION/litbank_conll_short\\2489_moby_dick_brat.conll\n",
      "../../../data/COREFERENCE_RESOLUTION/litbank_conll_short\\24_o_pioneers_brat.conll\n",
      "../../../data/COREFERENCE_RESOLUTION/litbank_conll_short\\2641_a_room_with_a_view_brat.conll\n",
      "../../../data/COREFERENCE_RESOLUTION/litbank_conll_short\\271_black_beauty_brat.conll\n",
      "../../../data/COREFERENCE_RESOLUTION/litbank_conll_short\\2775_the_good_soldier_brat.conll\n",
      "../../../data/COREFERENCE_RESOLUTION/litbank_conll_short\\27_far_from_the_madding_crowd_brat.conll\n",
      "../../../data/COREFERENCE_RESOLUTION/litbank_conll_short\\2807_to_have_and_to_hold_brat.conll\n",
      "../../../data/COREFERENCE_RESOLUTION/litbank_conll_short\\2814_dubliners_brat.conll\n",
      "../../../data/COREFERENCE_RESOLUTION/litbank_conll_short\\2852_the_hound_of_the_baskervilles_brat.conll\n",
      "../../../data/COREFERENCE_RESOLUTION/litbank_conll_short\\2891_howards_end_brat.conll\n",
      "../../../data/COREFERENCE_RESOLUTION/litbank_conll_short\\3268_the_mysteries_of_udolpho_brat.conll\n",
      "../../../data/COREFERENCE_RESOLUTION/litbank_conll_short\\32_herland_brat.conll\n",
      "../../../data/COREFERENCE_RESOLUTION/litbank_conll_short\\33_the_scarlet_letter_brat.conll\n",
      "../../../data/COREFERENCE_RESOLUTION/litbank_conll_short\\3457_the_man_of_the_forest_brat.conll\n",
      "../../../data/COREFERENCE_RESOLUTION/litbank_conll_short\\345_dracula_brat.conll\n",
      "../../../data/COREFERENCE_RESOLUTION/litbank_conll_short\\351_of_human_bondage_brat.conll\n",
      "../../../data/COREFERENCE_RESOLUTION/litbank_conll_short\\367_country_of_the_pointed_firs_brat.conll\n",
      "../../../data/COREFERENCE_RESOLUTION/litbank_conll_short\\36_the_war_of_the_worlds_brat.conll\n",
      "../../../data/COREFERENCE_RESOLUTION/litbank_conll_short\\41286_miss_marjoribanks_brat.conll\n",
      "../../../data/COREFERENCE_RESOLUTION/litbank_conll_short\\41_the_legend_of_sleepy_hollow_brat.conll\n",
      "../../../data/COREFERENCE_RESOLUTION/litbank_conll_short\\4217_a_portrait_of_the_artist_as_a_young_man_brat.conll\n",
      "../../../data/COREFERENCE_RESOLUTION/litbank_conll_short\\4276_north_and_south_brat.conll\n",
      "../../../data/COREFERENCE_RESOLUTION/litbank_conll_short\\4300_ulysses_brat.conll\n",
      "../../../data/COREFERENCE_RESOLUTION/litbank_conll_short\\432_the_ambassadors_brat.conll\n",
      "../../../data/COREFERENCE_RESOLUTION/litbank_conll_short\\434_the_circular_staircase_brat.conll\n",
      "../../../data/COREFERENCE_RESOLUTION/litbank_conll_short\\44_the_song_of_the_lark_brat.conll\n",
      "../../../data/COREFERENCE_RESOLUTION/litbank_conll_short\\45_anne_of_green_gables_brat.conll\n",
      "../../../data/COREFERENCE_RESOLUTION/litbank_conll_short\\472_the_house_behind_the_cedars_brat.conll\n",
      "../../../data/COREFERENCE_RESOLUTION/litbank_conll_short\\502_desert_gold_brat.conll\n",
      "../../../data/COREFERENCE_RESOLUTION/litbank_conll_short\\514_little_women_brat.conll\n",
      "../../../data/COREFERENCE_RESOLUTION/litbank_conll_short\\5230_the_invisible_man_a_grotesque_romance_brat.conll\n",
      "../../../data/COREFERENCE_RESOLUTION/litbank_conll_short\\541_the_age_of_innocence_brat.conll\n",
      "../../../data/COREFERENCE_RESOLUTION/litbank_conll_short\\543_main_street_brat.conll\n",
      "../../../data/COREFERENCE_RESOLUTION/litbank_conll_short\\550_silas_marner_brat.conll\n",
      "../../../data/COREFERENCE_RESOLUTION/litbank_conll_short\\599_vanity_fair_brat.conll\n",
      "../../../data/COREFERENCE_RESOLUTION/litbank_conll_short\\60_the_scarlet_pimpernel_brat.conll\n",
      "../../../data/COREFERENCE_RESOLUTION/litbank_conll_short\\62_a_princess_of_mars_brat.conll\n",
      "../../../data/COREFERENCE_RESOLUTION/litbank_conll_short\\6593_history_of_tom_jones_a_foundling_brat.conll\n",
      "../../../data/COREFERENCE_RESOLUTION/litbank_conll_short\\711_allan_quatermain_brat.conll\n",
      "../../../data/COREFERENCE_RESOLUTION/litbank_conll_short\\730_oliver_twist_brat.conll\n",
      "../../../data/COREFERENCE_RESOLUTION/litbank_conll_short\\74_the_adventures_of_tom_sawyer_brat.conll\n",
      "../../../data/COREFERENCE_RESOLUTION/litbank_conll_short\\766_david_copperfield_brat.conll\n",
      "../../../data/COREFERENCE_RESOLUTION/litbank_conll_short\\768_wuthering_heights_brat.conll\n",
      "../../../data/COREFERENCE_RESOLUTION/litbank_conll_short\\76_adventures_of_huckleberry_finn_brat.conll\n",
      "../../../data/COREFERENCE_RESOLUTION/litbank_conll_short\\77_the_house_of_the_seven_gables_brat.conll\n",
      "../../../data/COREFERENCE_RESOLUTION/litbank_conll_short\\78_tarzan_of_the_apes_brat.conll\n",
      "../../../data/COREFERENCE_RESOLUTION/litbank_conll_short\\805_this_side_of_paradise_brat.conll\n",
      "../../../data/COREFERENCE_RESOLUTION/litbank_conll_short\\876_life_in_the_ironmills_or_the_korl_woman_brat.conll\n",
      "../../../data/COREFERENCE_RESOLUTION/litbank_conll_short\\8867_the_magnificent_ambersons_brat.conll\n",
      "../../../data/COREFERENCE_RESOLUTION/litbank_conll_short\\932_the_fall_of_the_house_of_usher_brat.conll\n",
      "../../../data/COREFERENCE_RESOLUTION/litbank_conll_short\\95_the_prisoner_of_zenda_brat.conll\n",
      "../../../data/COREFERENCE_RESOLUTION/litbank_conll_short\\969_the_tenant_of_wildfell_hall_brat.conll\n",
      "../../../data/COREFERENCE_RESOLUTION/litbank_conll_short\\974_the_secret_agent_a_simple_tale_brat.conll\n"
     ]
    },
    {
     "name": "stdout",
     "output_type": "stream",
     "text": [
      "../../../data/COREFERENCE_RESOLUTION/litbank_conll_short\\9830_the_beautiful_and_damned_brat.conll\n"
     ]
    }
   ],
   "source": [
    "litconv.run()"
   ]
  },
  {
   "cell_type": "code",
   "execution_count": null,
   "metadata": {},
   "outputs": [],
   "source": []
  },
  {
   "cell_type": "code",
   "execution_count": null,
   "metadata": {},
   "outputs": [],
   "source": []
  }
 ],
 "metadata": {
  "kernelspec": {
   "display_name": "Python 3",
   "language": "python",
   "name": "python3"
  },
  "language_info": {
   "codemirror_mode": {
    "name": "ipython",
    "version": 3
   },
   "file_extension": ".py",
   "mimetype": "text/x-python",
   "name": "python",
   "nbconvert_exporter": "python",
   "pygments_lexer": "ipython3",
   "version": "3.7.6"
  }
 },
 "nbformat": 4,
 "nbformat_minor": 4
}
