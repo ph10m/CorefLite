{
 "cells": [
  {
   "cell_type": "code",
   "execution_count": 5,
   "metadata": {},
   "outputs": [
    {
     "name": "stdout",
     "output_type": "stream",
     "text": [
      "The autoreload extension is already loaded. To reload it, use:\n",
      "  %reload_ext autoreload\n"
     ]
    }
   ],
   "source": [
    "%load_ext autoreload\n",
    "%autoreload 2"
   ]
  },
  {
   "cell_type": "code",
   "execution_count": 6,
   "metadata": {},
   "outputs": [],
   "source": [
    "import os\n",
    "import jsonlines\n",
    "from tollef_conll_converter import formatOntonotesJsonlines"
   ]
  },
  {
   "cell_type": "code",
   "execution_count": 7,
   "metadata": {},
   "outputs": [],
   "source": [
    "datadir = \"../../../data/conll-2012-jsonlines\"\n",
    "outdir = \"../../coreference_data\""
   ]
  },
  {
   "cell_type": "code",
   "execution_count": 7,
   "metadata": {},
   "outputs": [],
   "source": [
    "in_file = os.path.join(datadir, \"train.english.jsonlines\")\n",
    "out_file = os.path.join(outdir, \"ontonotes_train.coreflite\")\n",
    "formatOntonotesJsonlines(in_file, out_file)"
   ]
  },
  {
   "cell_type": "code",
   "execution_count": 9,
   "metadata": {},
   "outputs": [],
   "source": [
    "in_file = os.path.join(datadir, \"test.english.jsonlines\")\n",
    "out_file = os.path.join(outdir, \"ontonotes_test.coreflite\")\n",
    "formatOntonotesJsonlines(in_file, out_file)"
   ]
  },
  {
   "cell_type": "code",
   "execution_count": 10,
   "metadata": {},
   "outputs": [],
   "source": [
    "in_file = os.path.join(datadir, \"dev.english.jsonlines\")\n",
    "out_file = os.path.join(outdir, \"ontonotes_dev.coreflite\")\n",
    "formatOntonotesJsonlines(in_file, out_file)"
   ]
  },
  {
   "cell_type": "markdown",
   "metadata": {},
   "source": [
    "# News only with the \"nw/\" tag"
   ]
  },
  {
   "cell_type": "code",
   "execution_count": 5,
   "metadata": {},
   "outputs": [],
   "source": [
    "in_file = os.path.join(datadir, \"train.english.jsonlines\")\n",
    "out_file = os.path.join(outdir, \"ontonotes_train_news.coreflite\")\n",
    "formatOntonotesJsonlines(in_file, out_file, genre=\"nw/\")"
   ]
  },
  {
   "cell_type": "code",
   "execution_count": 4,
   "metadata": {},
   "outputs": [],
   "source": [
    "in_file = os.path.join(datadir, \"test.english.jsonlines\")\n",
    "out_file = os.path.join(outdir, \"ontonotes_test_news.coreflite\")\n",
    "formatOntonotesJsonlines(in_file, out_file, genre=\"nw/\")"
   ]
  },
  {
   "cell_type": "code",
   "execution_count": 7,
   "metadata": {},
   "outputs": [],
   "source": [
    "in_file = os.path.join(datadir, \"dev.english.jsonlines\")\n",
    "out_file = os.path.join(outdir, \"ontonotes_dev_news.coreflite\")\n",
    "formatOntonotesJsonlines(in_file, out_file, genre=\"nw/\")"
   ]
  },
  {
   "cell_type": "markdown",
   "metadata": {},
   "source": [
    "# Combine train/test/dev news into one file:"
   ]
  },
  {
   "cell_type": "code",
   "execution_count": 9,
   "metadata": {},
   "outputs": [],
   "source": [
    "nw_train = os.path.join(outdir, \"ontonotes_train_news.coreflite\")\n",
    "nw_test = os.path.join(outdir, \"ontonotes_test_news.coreflite\")\n",
    "nw_dev = os.path.join(outdir, \"ontonotes_dev_news.coreflite\")\n",
    "\n",
    "news_files = [nw_train, nw_test, nw_dev]\n",
    "combined_news = os.path.join(outdir, \"ontonotes_combined_news.coreflite\")\n",
    "with open(combined_news, \"w\") as out:\n",
    "    for nf in news_files:\n",
    "        with open(nf, \"r\") as _in:\n",
    "            lines = _in.readlines()\n",
    "            out.writelines(lines)"
   ]
  },
  {
   "cell_type": "markdown",
   "metadata": {},
   "source": [
    "# All data but news"
   ]
  },
  {
   "cell_type": "code",
   "execution_count": 9,
   "metadata": {},
   "outputs": [],
   "source": [
    "in_file = os.path.join(datadir, \"test.english.jsonlines\")\n",
    "out_file = os.path.join(outdir, \"ontonotes_test_no_news.coreflite\")\n",
    "formatOntonotesJsonlines(in_file, out_file, genre=\"nw/\", reverse_genre_logic=True)"
   ]
  },
  {
   "cell_type": "code",
   "execution_count": null,
   "metadata": {},
   "outputs": [],
   "source": []
  }
 ],
 "metadata": {
  "kernelspec": {
   "display_name": "Python 3",
   "language": "python",
   "name": "python3"
  },
  "language_info": {
   "codemirror_mode": {
    "name": "ipython",
    "version": 3
   },
   "file_extension": ".py",
   "mimetype": "text/x-python",
   "name": "python",
   "nbconvert_exporter": "python",
   "pygments_lexer": "ipython3",
   "version": "3.7.6"
  }
 },
 "nbformat": 4,
 "nbformat_minor": 4
}
